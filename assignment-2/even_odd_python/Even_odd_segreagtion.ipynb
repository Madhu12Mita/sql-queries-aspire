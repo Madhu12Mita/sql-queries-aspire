{
 "cells": [
  {
   "cell_type": "code",
   "execution_count": 13,
   "id": "6bcbe77c",
   "metadata": {},
   "outputs": [],
   "source": [
    "import pandas as pd\n",
    "df=pd.read_csv(\"/Users/mkoralla/Desktop/practice/assignment-aspire/HW-even_odd/users.csv\")\n"
   ]
  },
  {
   "cell_type": "code",
   "execution_count": 14,
   "id": "d167388c",
   "metadata": {},
   "outputs": [
    {
     "name": "stdout",
     "output_type": "stream",
     "text": [
      "    id   name\n",
      "0    1  madhu\n",
      "1    2      a\n",
      "2    3      b\n",
      "3    4      c\n",
      "4    5      d\n",
      "5    6      e\n",
      "6    7      f\n",
      "7    8      g\n",
      "8    9      h\n",
      "9   10      i\n",
      "10  11      j\n"
     ]
    }
   ],
   "source": [
    "print(df)"
   ]
  },
  {
   "cell_type": "code",
   "execution_count": 15,
   "id": "6f012dc3",
   "metadata": {},
   "outputs": [
    {
     "name": "stdout",
     "output_type": "stream",
     "text": [
      "   id name\n",
      "0   2    a\n",
      "1   4    c\n",
      "2   6    e\n",
      "3   8    g\n",
      "4  10    i\n",
      "   id   name\n",
      "0   1  madhu\n",
      "1   3      b\n",
      "2   5      d\n",
      "3   7      f\n",
      "4   9      h\n",
      "5  11      j\n"
     ]
    },
    {
     "name": "stderr",
     "output_type": "stream",
     "text": [
      "/var/folders/kh/4q9z7ww54qgct44j62_sx8fh0000gp/T/ipykernel_5460/1449561550.py:5: FutureWarning: The frame.append method is deprecated and will be removed from pandas in a future version. Use pandas.concat instead.\n",
      "  result_odd=result_odd.append(filter_odd,ignore_index=True)\n",
      "/var/folders/kh/4q9z7ww54qgct44j62_sx8fh0000gp/T/ipykernel_5460/1449561550.py:6: FutureWarning: The frame.append method is deprecated and will be removed from pandas in a future version. Use pandas.concat instead.\n",
      "  result_even=result_even.append(filter_even,ignore_index=True)\n"
     ]
    }
   ],
   "source": [
    "result_odd=pd.DataFrame()\n",
    "result_even=pd.DataFrame()\n",
    "filter_even=df[df.id%2!=0]\n",
    "filter_odd=df[df.id%2==0]\n",
    "result_odd=result_odd.append(filter_odd,ignore_index=True)\n",
    "result_even=result_even.append(filter_even,ignore_index=True)\n",
    "print(result_odd)\n",
    "print(result_even)"
   ]
  },
  {
   "cell_type": "code",
   "execution_count": 10,
   "id": "fcbb56a1",
   "metadata": {},
   "outputs": [],
   "source": [
    "result_odd.to_csv(\"odd.csv\")\n",
    "result_even.to_csv(\"even.csv\")"
   ]
  },
  {
   "cell_type": "code",
   "execution_count": null,
   "id": "83c8387c",
   "metadata": {},
   "outputs": [],
   "source": []
  }
 ],
 "metadata": {
  "kernelspec": {
   "display_name": "Python 3 (ipykernel)",
   "language": "python",
   "name": "python3"
  },
  "language_info": {
   "codemirror_mode": {
    "name": "ipython",
    "version": 3
   },
   "file_extension": ".py",
   "mimetype": "text/x-python",
   "name": "python",
   "nbconvert_exporter": "python",
   "pygments_lexer": "ipython3",
   "version": "3.9.13"
  }
 },
 "nbformat": 4,
 "nbformat_minor": 5
}
